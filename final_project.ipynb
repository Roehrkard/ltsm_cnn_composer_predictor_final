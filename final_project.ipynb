{
 "cells": [
  {
   "cell_type": "markdown",
   "source": [
    "# Final Project - Bilal Najar"
   ],
   "metadata": {
    "collapsed": false
   },
   "id": "f7942db478d27748"
  },
  {
   "cell_type": "markdown",
   "source": [
    "# Feature Extraction"
   ],
   "metadata": {
    "collapsed": false
   },
   "id": "d9fbf1c03c921e89"
  },
  {
   "cell_type": "code",
   "execution_count": 6,
   "id": "initial_id",
   "metadata": {
    "collapsed": true,
    "ExecuteTime": {
     "end_time": "2024-08-04T22:11:59.037608Z",
     "start_time": "2024-08-04T22:11:23.201415Z"
    }
   },
   "outputs": [
    {
     "name": "stderr",
     "output_type": "stream",
     "text": [
      "/opt/anaconda3/envs/AAI-511/lib/python3.11/site-packages/pretty_midi/pretty_midi.py:100: RuntimeWarning: Tempo, Key or Time signature change events found on non-zero tracks.  This is not a valid type 0 or type 1 MIDI file.  Tempo, Key or Time Signature may be wrong.\n",
      "  warnings.warn(\n"
     ]
    },
    {
     "name": "stdout",
     "output_type": "stream",
     "text": [
      "Error processing /Users/bilalnajar/PycharmProjects/AAI-511/Composers/Beethoven/Anhang 14-3.mid: Could not decode key with 3 flats and mode 255\n",
      "Feature Extraction Complete and saved to 'extracted_features_dataset_encoded.csv'\n"
     ]
    },
    {
     "data": {
      "text/plain": "  composer  instrument_program  is_drum     start       end  pitch  velocity  \\\n0   Mozart                  68    False  2.068964  3.825428     75        86   \n1   Mozart                  68    False  2.068964  3.825428     67        86   \n2   Mozart                  68    False  4.137928  5.894392     79        86   \n3   Mozart                  68    False  4.137928  5.894392     70        86   \n4   Mozart                  68    False  6.206892  8.017235     82        86   \n\n   tempo_mean  tempo_min   tempo_max     tempo_var  key_mean  key_min  \\\n0   330.70389        0.0  404.032634  10899.555502       3.0        3   \n1   330.70389        0.0  404.032634  10899.555502       3.0        3   \n2   330.70389        0.0  404.032634  10899.555502       3.0        3   \n3   330.70389        0.0  404.032634  10899.555502       3.0        3   \n4   330.70389        0.0  404.032634  10899.555502       3.0        3   \n\n   key_max  key_var  time_numerator_mean  time_denominator_mean  \n0        3      0.0                  4.0                    4.0  \n1        3      0.0                  4.0                    4.0  \n2        3      0.0                  4.0                    4.0  \n3        3      0.0                  4.0                    4.0  \n4        3      0.0                  4.0                    4.0  ",
      "text/html": "<div>\n<style scoped>\n    .dataframe tbody tr th:only-of-type {\n        vertical-align: middle;\n    }\n\n    .dataframe tbody tr th {\n        vertical-align: top;\n    }\n\n    .dataframe thead th {\n        text-align: right;\n    }\n</style>\n<table border=\"1\" class=\"dataframe\">\n  <thead>\n    <tr style=\"text-align: right;\">\n      <th></th>\n      <th>composer</th>\n      <th>instrument_program</th>\n      <th>is_drum</th>\n      <th>start</th>\n      <th>end</th>\n      <th>pitch</th>\n      <th>velocity</th>\n      <th>tempo_mean</th>\n      <th>tempo_min</th>\n      <th>tempo_max</th>\n      <th>tempo_var</th>\n      <th>key_mean</th>\n      <th>key_min</th>\n      <th>key_max</th>\n      <th>key_var</th>\n      <th>time_numerator_mean</th>\n      <th>time_denominator_mean</th>\n    </tr>\n  </thead>\n  <tbody>\n    <tr>\n      <th>0</th>\n      <td>Mozart</td>\n      <td>68</td>\n      <td>False</td>\n      <td>2.068964</td>\n      <td>3.825428</td>\n      <td>75</td>\n      <td>86</td>\n      <td>330.70389</td>\n      <td>0.0</td>\n      <td>404.032634</td>\n      <td>10899.555502</td>\n      <td>3.0</td>\n      <td>3</td>\n      <td>3</td>\n      <td>0.0</td>\n      <td>4.0</td>\n      <td>4.0</td>\n    </tr>\n    <tr>\n      <th>1</th>\n      <td>Mozart</td>\n      <td>68</td>\n      <td>False</td>\n      <td>2.068964</td>\n      <td>3.825428</td>\n      <td>67</td>\n      <td>86</td>\n      <td>330.70389</td>\n      <td>0.0</td>\n      <td>404.032634</td>\n      <td>10899.555502</td>\n      <td>3.0</td>\n      <td>3</td>\n      <td>3</td>\n      <td>0.0</td>\n      <td>4.0</td>\n      <td>4.0</td>\n    </tr>\n    <tr>\n      <th>2</th>\n      <td>Mozart</td>\n      <td>68</td>\n      <td>False</td>\n      <td>4.137928</td>\n      <td>5.894392</td>\n      <td>79</td>\n      <td>86</td>\n      <td>330.70389</td>\n      <td>0.0</td>\n      <td>404.032634</td>\n      <td>10899.555502</td>\n      <td>3.0</td>\n      <td>3</td>\n      <td>3</td>\n      <td>0.0</td>\n      <td>4.0</td>\n      <td>4.0</td>\n    </tr>\n    <tr>\n      <th>3</th>\n      <td>Mozart</td>\n      <td>68</td>\n      <td>False</td>\n      <td>4.137928</td>\n      <td>5.894392</td>\n      <td>70</td>\n      <td>86</td>\n      <td>330.70389</td>\n      <td>0.0</td>\n      <td>404.032634</td>\n      <td>10899.555502</td>\n      <td>3.0</td>\n      <td>3</td>\n      <td>3</td>\n      <td>0.0</td>\n      <td>4.0</td>\n      <td>4.0</td>\n    </tr>\n    <tr>\n      <th>4</th>\n      <td>Mozart</td>\n      <td>68</td>\n      <td>False</td>\n      <td>6.206892</td>\n      <td>8.017235</td>\n      <td>82</td>\n      <td>86</td>\n      <td>330.70389</td>\n      <td>0.0</td>\n      <td>404.032634</td>\n      <td>10899.555502</td>\n      <td>3.0</td>\n      <td>3</td>\n      <td>3</td>\n      <td>0.0</td>\n      <td>4.0</td>\n      <td>4.0</td>\n    </tr>\n  </tbody>\n</table>\n</div>"
     },
     "execution_count": 6,
     "metadata": {},
     "output_type": "execute_result"
    }
   ],
   "source": [
    "# Import necessary libraries\n",
    "import os\n",
    "import pretty_midi\n",
    "import pandas as pd\n",
    "import numpy as np\n",
    "\n",
    "# Function to extract note-level and complex features from a single MIDI file\n",
    "def extract_features(midi_file_path):\n",
    "    try:\n",
    "        midi_data = pretty_midi.PrettyMIDI(midi_file_path)\n",
    "        notes = []\n",
    "        for instrument in midi_data.instruments:\n",
    "            for note in instrument.notes:\n",
    "                notes.append([\n",
    "                    instrument.program,  # Instrument program number\n",
    "                    instrument.is_drum,  # Is the instrument a drum\n",
    "                    note.start,  # Note start time\n",
    "                    note.end,  # Note end time\n",
    "                    note.pitch,  # Note pitch\n",
    "                    note.velocity  # Note velocity\n",
    "                ])\n",
    "        \n",
    "        # Extract tempo changes and compute statistics\n",
    "        tempos, tempo_times = midi_data.get_tempo_changes()\n",
    "        tempo_mean = np.mean(tempos) if len(tempos) > 0 else 0\n",
    "        tempo_min = np.min(tempos) if len(tempos) > 0 else 0\n",
    "        tempo_max = np.max(tempos) if len(tempos) > 0 else 0\n",
    "        tempo_var = np.var(tempos) if len(tempos) > 0 else 0\n",
    "        \n",
    "        # Extract key signature changes and convert to numeric format\n",
    "        key_signatures = [ks.key_number for ks in midi_data.key_signature_changes]\n",
    "        key_mean = np.mean(key_signatures) if len(key_signatures) > 0 else 0\n",
    "        key_min = np.min(key_signatures) if len(key_signatures) > 0 else 0\n",
    "        key_max = np.max(key_signatures) if len(key_signatures) > 0 else 0\n",
    "        key_var = np.var(key_signatures) if len(key_signatures) > 0 else 0\n",
    "        \n",
    "        # Extract time signature changes and convert to numeric format\n",
    "        time_signatures = [(ts.numerator, ts.denominator) for ts in midi_data.time_signature_changes]\n",
    "        time_numerators = [ts[0] for ts in time_signatures]\n",
    "        time_denominators = [ts[1] for ts in time_signatures]\n",
    "        time_numerator_mean = np.mean(time_numerators) if len(time_numerators) > 0 else 0\n",
    "        time_denominator_mean = np.mean(time_denominators) if len(time_denominators) > 0 else 0\n",
    "\n",
    "        for note in notes:\n",
    "            note += [tempo_mean, tempo_min, tempo_max, tempo_var, key_mean, key_min, key_max, key_var, time_numerator_mean, time_denominator_mean]\n",
    "\n",
    "        return notes\n",
    "    except Exception as e:\n",
    "        print(f\"Error processing {midi_file_path}: {e}\")\n",
    "        return []\n",
    "\n",
    "# Function to extract features from all MIDI files in the dataset\n",
    "def extract_features_from_directory(directory_path):\n",
    "    data = []\n",
    "    for composer in os.listdir(directory_path):\n",
    "        composer_path = os.path.join(directory_path, composer)\n",
    "        if os.path.isdir(composer_path):\n",
    "            for midi_file in os.listdir(composer_path):\n",
    "                if midi_file.endswith('.mid'):\n",
    "                    file_path = os.path.join(composer_path, midi_file)\n",
    "                    notes = extract_features(file_path)\n",
    "                    for note in notes:\n",
    "                        data.append([composer] + note)\n",
    "    columns = ['composer', 'instrument_program', 'is_drum', 'start', 'end', 'pitch', 'velocity', 'tempo_mean', 'tempo_min', 'tempo_max', 'tempo_var', 'key_mean', 'key_min', 'key_max', 'key_var', 'time_numerator_mean', 'time_denominator_mean']\n",
    "    return pd.DataFrame(data, columns=columns)\n",
    "\n",
    "# Extract features from the entire dataset\n",
    "dataset_path = '/Users/bilalnajar/PycharmProjects/AAI-511/Composers'  # Path to dataset directory containing composer subdirectories (Composers/ComposerName/*.mid)\n",
    "df = extract_features_from_directory(dataset_path)\n",
    "\n",
    "# Save the extracted features to a new CSV file\n",
    "df.to_csv('extracted_features_dataset_encoded.csv', index=False)\n",
    "\n",
    "print(\"Feature Extraction Complete and saved to 'extracted_features_dataset_encoded.csv'\")\n",
    "df.head()"
   ]
  },
  {
   "cell_type": "markdown",
   "source": [
    "# Data Cleaning and Preprocessing"
   ],
   "metadata": {
    "collapsed": false
   },
   "id": "e09a1121f8a8d136"
  },
  {
   "cell_type": "code",
   "execution_count": 7,
   "outputs": [
    {
     "name": "stderr",
     "output_type": "stream",
     "text": [
      "/var/folders/bt/spx_pkps3xs3hctqcx6dj9kw0000gn/T/ipykernel_99046/3171745523.py:12: FutureWarning: DataFrame.fillna with 'method' is deprecated and will raise in a future version. Use obj.ffill() or obj.bfill() instead.\n",
      "  df.fillna(method='ffill', inplace=True)\n"
     ]
    },
    {
     "name": "stdout",
     "output_type": "stream",
     "text": [
      "Data Cleaning and Preprocessing Complete and saved to 'preprocessed_features_dataset_encoded.csv'\n"
     ]
    },
    {
     "data": {
      "text/plain": "   composer  instrument_program  is_drum     start       end     pitch  \\\n0         3                  68    False  0.001530  0.002787  0.673469   \n1         3                  68    False  0.001530  0.002787  0.591837   \n2         3                  68    False  0.003060  0.004316  0.714286   \n3         3                  68    False  0.003060  0.004316  0.622449   \n4         3                  68    False  0.004589  0.005886  0.744898   \n\n   velocity  tempo_mean  tempo_min  tempo_max  tempo_var  key_mean   key_min  \\\n0  0.674603    0.353389        0.0   0.080288   0.026982  0.136364  0.136364   \n1  0.674603    0.353389        0.0   0.080288   0.026982  0.136364  0.136364   \n2  0.674603    0.353389        0.0   0.080288   0.026982  0.136364  0.136364   \n3  0.674603    0.353389        0.0   0.080288   0.026982  0.136364  0.136364   \n4  0.674603    0.353389        0.0   0.080288   0.026982  0.136364  0.136364   \n\n    key_max  key_var  time_numerator_mean  time_denominator_mean  \n0  0.130435      0.0             0.333333                   0.25  \n1  0.130435      0.0             0.333333                   0.25  \n2  0.130435      0.0             0.333333                   0.25  \n3  0.130435      0.0             0.333333                   0.25  \n4  0.130435      0.0             0.333333                   0.25  ",
      "text/html": "<div>\n<style scoped>\n    .dataframe tbody tr th:only-of-type {\n        vertical-align: middle;\n    }\n\n    .dataframe tbody tr th {\n        vertical-align: top;\n    }\n\n    .dataframe thead th {\n        text-align: right;\n    }\n</style>\n<table border=\"1\" class=\"dataframe\">\n  <thead>\n    <tr style=\"text-align: right;\">\n      <th></th>\n      <th>composer</th>\n      <th>instrument_program</th>\n      <th>is_drum</th>\n      <th>start</th>\n      <th>end</th>\n      <th>pitch</th>\n      <th>velocity</th>\n      <th>tempo_mean</th>\n      <th>tempo_min</th>\n      <th>tempo_max</th>\n      <th>tempo_var</th>\n      <th>key_mean</th>\n      <th>key_min</th>\n      <th>key_max</th>\n      <th>key_var</th>\n      <th>time_numerator_mean</th>\n      <th>time_denominator_mean</th>\n    </tr>\n  </thead>\n  <tbody>\n    <tr>\n      <th>0</th>\n      <td>3</td>\n      <td>68</td>\n      <td>False</td>\n      <td>0.001530</td>\n      <td>0.002787</td>\n      <td>0.673469</td>\n      <td>0.674603</td>\n      <td>0.353389</td>\n      <td>0.0</td>\n      <td>0.080288</td>\n      <td>0.026982</td>\n      <td>0.136364</td>\n      <td>0.136364</td>\n      <td>0.130435</td>\n      <td>0.0</td>\n      <td>0.333333</td>\n      <td>0.25</td>\n    </tr>\n    <tr>\n      <th>1</th>\n      <td>3</td>\n      <td>68</td>\n      <td>False</td>\n      <td>0.001530</td>\n      <td>0.002787</td>\n      <td>0.591837</td>\n      <td>0.674603</td>\n      <td>0.353389</td>\n      <td>0.0</td>\n      <td>0.080288</td>\n      <td>0.026982</td>\n      <td>0.136364</td>\n      <td>0.136364</td>\n      <td>0.130435</td>\n      <td>0.0</td>\n      <td>0.333333</td>\n      <td>0.25</td>\n    </tr>\n    <tr>\n      <th>2</th>\n      <td>3</td>\n      <td>68</td>\n      <td>False</td>\n      <td>0.003060</td>\n      <td>0.004316</td>\n      <td>0.714286</td>\n      <td>0.674603</td>\n      <td>0.353389</td>\n      <td>0.0</td>\n      <td>0.080288</td>\n      <td>0.026982</td>\n      <td>0.136364</td>\n      <td>0.136364</td>\n      <td>0.130435</td>\n      <td>0.0</td>\n      <td>0.333333</td>\n      <td>0.25</td>\n    </tr>\n    <tr>\n      <th>3</th>\n      <td>3</td>\n      <td>68</td>\n      <td>False</td>\n      <td>0.003060</td>\n      <td>0.004316</td>\n      <td>0.622449</td>\n      <td>0.674603</td>\n      <td>0.353389</td>\n      <td>0.0</td>\n      <td>0.080288</td>\n      <td>0.026982</td>\n      <td>0.136364</td>\n      <td>0.136364</td>\n      <td>0.130435</td>\n      <td>0.0</td>\n      <td>0.333333</td>\n      <td>0.25</td>\n    </tr>\n    <tr>\n      <th>4</th>\n      <td>3</td>\n      <td>68</td>\n      <td>False</td>\n      <td>0.004589</td>\n      <td>0.005886</td>\n      <td>0.744898</td>\n      <td>0.674603</td>\n      <td>0.353389</td>\n      <td>0.0</td>\n      <td>0.080288</td>\n      <td>0.026982</td>\n      <td>0.136364</td>\n      <td>0.136364</td>\n      <td>0.130435</td>\n      <td>0.0</td>\n      <td>0.333333</td>\n      <td>0.25</td>\n    </tr>\n  </tbody>\n</table>\n</div>"
     },
     "execution_count": 7,
     "metadata": {},
     "output_type": "execute_result"
    }
   ],
   "source": [
    "# Import necessary libraries\n",
    "import pandas as pd\n",
    "from sklearn.preprocessing import MinMaxScaler, LabelEncoder\n",
    "\n",
    "# Load the original dataset\n",
    "original_df = pd.read_csv('extracted_features_dataset_encoded.csv')\n",
    "\n",
    "# Create a copy of the original dataset for preprocessing\n",
    "df = original_df.copy()\n",
    "\n",
    "# Handling missing values\n",
    "df.fillna(method='ffill', inplace=True)\n",
    "\n",
    "# Normalizing features\n",
    "scaler = MinMaxScaler()\n",
    "df[['start', 'end', 'pitch', 'velocity', 'tempo_mean', 'tempo_min', 'tempo_max', 'tempo_var', 'key_mean', 'key_min', 'key_max', 'key_var', 'time_numerator_mean', 'time_denominator_mean']] = scaler.fit_transform(df[['start', 'end', 'pitch', 'velocity', 'tempo_mean', 'tempo_min', 'tempo_max', 'tempo_var', 'key_mean', 'key_min', 'key_max', 'key_var', 'time_numerator_mean', 'time_denominator_mean']])\n",
    "\n",
    "# Encoding categorical data\n",
    "label_encoder = LabelEncoder()\n",
    "df['composer'] = label_encoder.fit_transform(df['composer'])\n",
    "\n",
    "# Save the preprocessed data to a new CSV file\n",
    "df.to_csv('preprocessed_features_dataset_encoded.csv', index=False)\n",
    "\n",
    "print(\"Data Cleaning and Preprocessing Complete and saved to 'preprocessed_features_dataset_encoded.csv'\")\n",
    "df.head()"
   ],
   "metadata": {
    "collapsed": false,
    "ExecuteTime": {
     "end_time": "2024-08-04T22:12:13.075713Z",
     "start_time": "2024-08-04T22:11:59.037759Z"
    }
   },
   "id": "a35649aa4e14ecdc"
  },
  {
   "cell_type": "markdown",
   "source": [
    "# Train-Validation-Test Split"
   ],
   "metadata": {
    "collapsed": false
   },
   "id": "3ba54d810beb8910"
  },
  {
   "cell_type": "code",
   "execution_count": 8,
   "outputs": [
    {
     "name": "stdout",
     "output_type": "stream",
     "text": [
      "Train-Validation-Test Split Complete\n",
      "Training set size: 1179089\n",
      "Validation set size: 252662\n",
      "Test set size: 252662\n"
     ]
    }
   ],
   "source": [
    "from sklearn.model_selection import train_test_split\n",
    "\n",
    "# Load the preprocessed data\n",
    "df = pd.read_csv('preprocessed_features_dataset_encoded.csv')\n",
    "\n",
    "# Define the features (X) and target (y)\n",
    "X = df.drop(columns=['composer'])\n",
    "y = df['composer']\n",
    "\n",
    "# Split the data into training, validation, and test sets\n",
    "X_train, X_temp, y_train, y_temp = train_test_split(X, y, test_size=0.3, random_state=27)\n",
    "X_val, X_test, y_val, y_test = train_test_split(X_temp, y_temp, test_size=0.5, random_state=27)\n",
    "\n",
    "print(\"Train-Validation-Test Split Complete\")\n",
    "print(f\"Training set size: {len(X_train)}\")\n",
    "print(f\"Validation set size: {len(X_val)}\")\n",
    "print(f\"Test set size: {len(X_test)}\")"
   ],
   "metadata": {
    "collapsed": false,
    "ExecuteTime": {
     "end_time": "2024-08-04T22:12:14.924557Z",
     "start_time": "2024-08-04T22:12:13.074003Z"
    }
   },
   "id": "533a95f0b5c13f98"
  },
  {
   "cell_type": "markdown",
   "source": [
    "# Model Building (CNN)"
   ],
   "metadata": {
    "collapsed": false
   },
   "id": "179a9f9b4c76dc9a"
  },
  {
   "cell_type": "code",
   "execution_count": 9,
   "outputs": [
    {
     "name": "stdout",
     "output_type": "stream",
     "text": [
      "CNN Model Created\n"
     ]
    }
   ],
   "source": [
    "from keras.models import Sequential\n",
    "from keras.layers import Conv1D, MaxPooling1D, Flatten, Dense, Dropout\n",
    "\n",
    "# Define the CNN model\n",
    "def create_cnn_model(input_shape, num_classes):\n",
    "    model = Sequential()\n",
    "    model.add(Conv1D(64, kernel_size=2, activation='relu', input_shape=input_shape))\n",
    "    model.add(MaxPooling1D(pool_size=1))\n",
    "    model.add(Dropout(0.2))\n",
    "    model.add(Conv1D(128, kernel_size=2, activation='relu'))\n",
    "    model.add(MaxPooling1D(pool_size=1))\n",
    "    model.add(Dropout(0.2))\n",
    "    model.add(Flatten())\n",
    "    model.add(Dense(128, activation='relu'))\n",
    "    model.add(Dense(num_classes, activation='softmax'))\n",
    "    return model\n",
    "\n",
    "# Get input shape and number of classes\n",
    "input_shape = (X_train.shape[1], 1)\n",
    "num_classes = len(set(y_train))\n",
    "\n",
    "# Create and compile the CNN model\n",
    "cnn_model = create_cnn_model(input_shape, num_classes)\n",
    "cnn_model.compile(optimizer='adam', loss='sparse_categorical_crossentropy', metrics=['accuracy'])\n",
    "print(\"CNN Model Created\")"
   ],
   "metadata": {
    "collapsed": false,
    "ExecuteTime": {
     "end_time": "2024-08-04T22:12:14.990373Z",
     "start_time": "2024-08-04T22:12:14.963654Z"
    }
   },
   "id": "28c3fc56560845d9"
  },
  {
   "cell_type": "markdown",
   "source": [
    "# Model Training (CNN)"
   ],
   "metadata": {
    "collapsed": false
   },
   "id": "7f05b0859b0b2389"
  },
  {
   "cell_type": "code",
   "execution_count": 10,
   "outputs": [
    {
     "name": "stdout",
     "output_type": "stream",
     "text": [
      "Training data shape for CNN: (1179089, 16, 1)\n",
      "Validation data shape for CNN: (252662, 16, 1)\n",
      "36847/36847 [==============================] - 170s 5ms/step - loss: 0.2309 - accuracy: 0.9118 - val_loss: 0.0772 - val_accuracy: 0.9707\n",
      "CNN Model Training Complete\n"
     ]
    }
   ],
   "source": [
    "import numpy as np\n",
    "\n",
    "# Reshape data for CNN model\n",
    "X_train_cnn = X_train.values.reshape((X_train.shape[0], X_train.shape[1], 1)).astype(np.float32)\n",
    "X_val_cnn = X_val.values.reshape((X_val.shape[0], X_val.shape[1], 1)).astype(np.float32)\n",
    "\n",
    "# Check the shape of the reshaped data\n",
    "print(f\"Training data shape for CNN: {X_train_cnn.shape}\")\n",
    "print(f\"Validation data shape for CNN: {X_val_cnn.shape}\")\n",
    "\n",
    "# Train CNN model\n",
    "history_cnn = cnn_model.fit(X_train_cnn, y_train, validation_data=(X_val_cnn, y_val), epochs=1, batch_size=32)\n",
    "print(\"CNN Model Training Complete\")"
   ],
   "metadata": {
    "collapsed": false,
    "ExecuteTime": {
     "end_time": "2024-08-04T22:15:05.626017Z",
     "start_time": "2024-08-04T22:12:14.991024Z"
    }
   },
   "id": "72fe2958613b3121"
  },
  {
   "cell_type": "markdown",
   "source": [
    "# Model Evaluation (CNN)"
   ],
   "metadata": {
    "collapsed": false
   },
   "id": "b85a27610a860cf5"
  },
  {
   "cell_type": "code",
   "execution_count": 16,
   "outputs": [
    {
     "name": "stdout",
     "output_type": "stream",
     "text": [
      "Test data shape for CNN: (252662, 16, 1)\n",
      "7896/7896 [==============================] - 5s 620us/step\n",
      "CNN Model Evaluation:\n",
      "              precision    recall  f1-score   support\n",
      "\n",
      "           0       0.98      0.97      0.98     50736\n",
      "           1       0.98      0.98      0.98    101032\n",
      "           2       0.93      0.97      0.95     48029\n",
      "           3       0.99      0.96      0.97     52865\n",
      "\n",
      "    accuracy                           0.97    252662\n",
      "   macro avg       0.97      0.97      0.97    252662\n",
      "weighted avg       0.97      0.97      0.97    252662\n",
      "\n",
      "Confusion Matrix:\n",
      "[[49412   158   923   243]\n",
      " [  377 98608  1780   267]\n",
      " [  138  1289 46378   224]\n",
      " [  331   708   913 50913]]\n",
      "CNN Model Accuracy: 0.9709\n",
      "CNN Model Precision: 0.9713\n",
      "CNN Model Recall: 0.9709\n"
     ]
    },
    {
     "data": {
      "text/plain": "<Figure size 1200x400 with 2 Axes>",
      "image/png": "[encoded data removed]"
     },
     "metadata": {},
     "output_type": "display_data"
    }
   ],
   "source": [
    "import matplotlib.pyplot as plt\n",
    "from sklearn.metrics import classification_report, confusion_matrix, accuracy_score, precision_score, recall_score\n",
    "\n",
    "# Reshape and convert test data for CNN model\n",
    "X_test_cnn = X_test.values.reshape((X_test.shape[0], X_test.shape[1], 1)).astype(np.float32)\n",
    "\n",
    "# Check the shape of the test data\n",
    "print(f\"Test data shape for CNN: {X_test_cnn.shape}\")\n",
    "\n",
    "# Predict the classes for the test set\n",
    "y_pred_cnn = cnn_model.predict(X_test_cnn).argmax(axis=1)\n",
    "\n",
    "# Classification report and confusion matrix\n",
    "print(\"CNN Model Evaluation:\")\n",
    "print(classification_report(y_test, y_pred_cnn))\n",
    "\n",
    "conf_matrix_cnn = confusion_matrix(y_test, y_pred_cnn)\n",
    "print(\"Confusion Matrix:\")\n",
    "print(conf_matrix_cnn)\n",
    "\n",
    "# Calculate and print accuracy, precision, and recall\n",
    "accuracy_cnn = accuracy_score(y_test, y_pred_cnn)\n",
    "precision_cnn = precision_score(y_test, y_pred_cnn, average='weighted')\n",
    "recall_cnn = recall_score(y_test, y_pred_cnn, average='weighted')\n",
    "\n",
    "print(f\"CNN Model Accuracy: {accuracy_cnn:.4f}\")\n",
    "print(f\"CNN Model Precision: {precision_cnn:.4f}\")\n",
    "print(f\"CNN Model Recall: {recall_cnn:.4f}\")\n",
    "\n",
    "# Plot training & validation accuracy values\n",
    "plt.figure(figsize=(12, 4))\n",
    "plt.subplot(1, 2, 1)\n",
    "plt.plot(history_cnn.history['accuracy'])\n",
    "plt.plot(history_cnn.history['val_accuracy'])\n",
    "plt.title('CNN Model Accuracy')\n",
    "plt.ylabel('Accuracy')\n",
    "plt.xlabel('Epoch')\n",
    "plt.legend(['Train', 'Validation'], loc='upper left')\n",
    "\n",
    "# Plot training & validation loss values\n",
    "plt.subplot(1, 2, 2)\n",
    "plt.plot(history_cnn.history['loss'])\n",
    "plt.plot(history_cnn.history['val_loss'])\n",
    "plt.title('CNN Model Loss')\n",
    "plt.ylabel('Loss')\n",
    "plt.xlabel('Epoch')\n",
    "plt.legend(['Train', 'Validation'], loc='upper left')\n",
    "\n",
    "plt.show()"
   ],
   "metadata": {
    "collapsed": false,
    "ExecuteTime": {
     "end_time": "2024-08-04T22:35:02.049439Z",
     "start_time": "2024-08-04T22:34:55.857539Z"
    }
   },
   "id": "b54449371475005"
  },
  {
   "cell_type": "markdown",
   "source": [
    "# Model Building (LSTM)"
   ],
   "metadata": {
    "collapsed": false
   },
   "id": "7d07bd002f57f9a1"
  },
  {
   "cell_type": "code",
   "execution_count": 12,
   "outputs": [
    {
     "name": "stdout",
     "output_type": "stream",
     "text": [
      "LSTM Model Created\n"
     ]
    },
    {
     "name": "stderr",
     "output_type": "stream",
     "text": [
      "2024-08-04 18:15:13.848161: I tensorflow/core/common_runtime/executor.cc:1197] [/device:CPU:0] (DEBUG INFO) Executor start aborting (this does not indicate an error and you can ignore this message): INVALID_ARGUMENT: You must feed a value for placeholder tensor 'gradients/split_2_grad/concat/split_2/split_dim' with dtype int32\n",
      "\t [[{{node gradients/split_2_grad/concat/split_2/split_dim}}]]\n",
      "2024-08-04 18:15:13.848583: I tensorflow/core/common_runtime/executor.cc:1197] [/device:CPU:0] (DEBUG INFO) Executor start aborting (this does not indicate an error and you can ignore this message): INVALID_ARGUMENT: You must feed a value for placeholder tensor 'gradients/split_grad/concat/split/split_dim' with dtype int32\n",
      "\t [[{{node gradients/split_grad/concat/split/split_dim}}]]\n",
      "2024-08-04 18:15:13.849046: I tensorflow/core/common_runtime/executor.cc:1197] [/device:CPU:0] (DEBUG INFO) Executor start aborting (this does not indicate an error and you can ignore this message): INVALID_ARGUMENT: You must feed a value for placeholder tensor 'gradients/split_1_grad/concat/split_1/split_dim' with dtype int32\n",
      "\t [[{{node gradients/split_1_grad/concat/split_1/split_dim}}]]\n",
      "2024-08-04 18:15:13.928506: I tensorflow/core/common_runtime/executor.cc:1197] [/device:CPU:0] (DEBUG INFO) Executor start aborting (this does not indicate an error and you can ignore this message): INVALID_ARGUMENT: You must feed a value for placeholder tensor 'gradients/split_2_grad/concat/split_2/split_dim' with dtype int32\n",
      "\t [[{{node gradients/split_2_grad/concat/split_2/split_dim}}]]\n",
      "2024-08-04 18:15:13.929062: I tensorflow/core/common_runtime/executor.cc:1197] [/device:CPU:0] (DEBUG INFO) Executor start aborting (this does not indicate an error and you can ignore this message): INVALID_ARGUMENT: You must feed a value for placeholder tensor 'gradients/split_grad/concat/split/split_dim' with dtype int32\n",
      "\t [[{{node gradients/split_grad/concat/split/split_dim}}]]\n",
      "2024-08-04 18:15:13.929449: I tensorflow/core/common_runtime/executor.cc:1197] [/device:CPU:0] (DEBUG INFO) Executor start aborting (this does not indicate an error and you can ignore this message): INVALID_ARGUMENT: You must feed a value for placeholder tensor 'gradients/split_1_grad/concat/split_1/split_dim' with dtype int32\n",
      "\t [[{{node gradients/split_1_grad/concat/split_1/split_dim}}]]\n"
     ]
    }
   ],
   "source": [
    "from keras.models import Sequential\n",
    "from keras.layers import LSTM, Dense, Dropout\n",
    "\n",
    "# Define the LSTM model\n",
    "def create_lstm_model(input_shape, num_classes):\n",
    "    model = Sequential()\n",
    "    model.add(LSTM(128, input_shape=input_shape, return_sequences=True))\n",
    "    model.add(Dropout(0.2))\n",
    "    model.add(LSTM(128))\n",
    "    model.add(Dropout(0.2))\n",
    "    model.add(Dense(64, activation='relu'))\n",
    "    model.add(Dense(num_classes, activation='softmax'))\n",
    "    return model\n",
    "\n",
    "# Get input shape and number of classes\n",
    "input_shape = (X_train.shape[1], 1)\n",
    "num_classes = len(set(y_train))\n",
    "\n",
    "# Create and compile the LSTM model\n",
    "lstm_model = create_lstm_model(input_shape, num_classes)\n",
    "lstm_model.compile(optimizer='adam', loss='sparse_categorical_crossentropy', metrics=['accuracy'])\n",
    "print(\"LSTM Model Created\")"
   ],
   "metadata": {
    "collapsed": false,
    "ExecuteTime": {
     "end_time": "2024-08-04T22:15:13.950070Z",
     "start_time": "2024-08-04T22:15:13.771514Z"
    }
   },
   "id": "b13b68f85d912af4"
  },
  {
   "cell_type": "markdown",
   "source": [
    "# Model Training (LSTM)"
   ],
   "metadata": {
    "collapsed": false
   },
   "id": "b2f33752a514be7b"
  },
  {
   "cell_type": "code",
   "execution_count": 13,
   "outputs": [
    {
     "name": "stdout",
     "output_type": "stream",
     "text": [
      "Training data shape for LSTM: (1179089, 16, 1)\n",
      "Validation data shape for LSTM: (252662, 16, 1)\n"
     ]
    },
    {
     "name": "stderr",
     "output_type": "stream",
     "text": [
      "2024-08-04 18:15:14.809000: I tensorflow/core/common_runtime/executor.cc:1197] [/device:CPU:0] (DEBUG INFO) Executor start aborting (this does not indicate an error and you can ignore this message): INVALID_ARGUMENT: You must feed a value for placeholder tensor 'gradients/split_2_grad/concat/split_2/split_dim' with dtype int32\n",
      "\t [[{{node gradients/split_2_grad/concat/split_2/split_dim}}]]\n",
      "2024-08-04 18:15:14.809505: I tensorflow/core/common_runtime/executor.cc:1197] [/device:CPU:0] (DEBUG INFO) Executor start aborting (this does not indicate an error and you can ignore this message): INVALID_ARGUMENT: You must feed a value for placeholder tensor 'gradients/split_grad/concat/split/split_dim' with dtype int32\n",
      "\t [[{{node gradients/split_grad/concat/split/split_dim}}]]\n",
      "2024-08-04 18:15:14.810034: I tensorflow/core/common_runtime/executor.cc:1197] [/device:CPU:0] (DEBUG INFO) Executor start aborting (this does not indicate an error and you can ignore this message): INVALID_ARGUMENT: You must feed a value for placeholder tensor 'gradients/split_1_grad/concat/split_1/split_dim' with dtype int32\n",
      "\t [[{{node gradients/split_1_grad/concat/split_1/split_dim}}]]\n",
      "2024-08-04 18:15:14.889501: I tensorflow/core/common_runtime/executor.cc:1197] [/device:CPU:0] (DEBUG INFO) Executor start aborting (this does not indicate an error and you can ignore this message): INVALID_ARGUMENT: You must feed a value for placeholder tensor 'gradients/split_2_grad/concat/split_2/split_dim' with dtype int32\n",
      "\t [[{{node gradients/split_2_grad/concat/split_2/split_dim}}]]\n",
      "2024-08-04 18:15:14.890083: I tensorflow/core/common_runtime/executor.cc:1197] [/device:CPU:0] (DEBUG INFO) Executor start aborting (this does not indicate an error and you can ignore this message): INVALID_ARGUMENT: You must feed a value for placeholder tensor 'gradients/split_grad/concat/split/split_dim' with dtype int32\n",
      "\t [[{{node gradients/split_grad/concat/split/split_dim}}]]\n",
      "2024-08-04 18:15:14.890606: I tensorflow/core/common_runtime/executor.cc:1197] [/device:CPU:0] (DEBUG INFO) Executor start aborting (this does not indicate an error and you can ignore this message): INVALID_ARGUMENT: You must feed a value for placeholder tensor 'gradients/split_1_grad/concat/split_1/split_dim' with dtype int32\n",
      "\t [[{{node gradients/split_1_grad/concat/split_1/split_dim}}]]\n",
      "2024-08-04 18:15:15.204423: I tensorflow/core/common_runtime/executor.cc:1197] [/device:CPU:0] (DEBUG INFO) Executor start aborting (this does not indicate an error and you can ignore this message): INVALID_ARGUMENT: You must feed a value for placeholder tensor 'gradients/split_2_grad/concat/split_2/split_dim' with dtype int32\n",
      "\t [[{{node gradients/split_2_grad/concat/split_2/split_dim}}]]\n",
      "2024-08-04 18:15:15.204975: I tensorflow/core/common_runtime/executor.cc:1197] [/device:CPU:0] (DEBUG INFO) Executor start aborting (this does not indicate an error and you can ignore this message): INVALID_ARGUMENT: You must feed a value for placeholder tensor 'gradients/split_grad/concat/split/split_dim' with dtype int32\n",
      "\t [[{{node gradients/split_grad/concat/split/split_dim}}]]\n",
      "2024-08-04 18:15:15.205580: I tensorflow/core/common_runtime/executor.cc:1197] [/device:CPU:0] (DEBUG INFO) Executor start aborting (this does not indicate an error and you can ignore this message): INVALID_ARGUMENT: You must feed a value for placeholder tensor 'gradients/split_1_grad/concat/split_1/split_dim' with dtype int32\n",
      "\t [[{{node gradients/split_1_grad/concat/split_1/split_dim}}]]\n",
      "2024-08-04 18:15:15.281912: I tensorflow/core/common_runtime/executor.cc:1197] [/device:CPU:0] (DEBUG INFO) Executor start aborting (this does not indicate an error and you can ignore this message): INVALID_ARGUMENT: You must feed a value for placeholder tensor 'gradients/split_2_grad/concat/split_2/split_dim' with dtype int32\n",
      "\t [[{{node gradients/split_2_grad/concat/split_2/split_dim}}]]\n",
      "2024-08-04 18:15:15.282460: I tensorflow/core/common_runtime/executor.cc:1197] [/device:CPU:0] (DEBUG INFO) Executor start aborting (this does not indicate an error and you can ignore this message): INVALID_ARGUMENT: You must feed a value for placeholder tensor 'gradients/split_grad/concat/split/split_dim' with dtype int32\n",
      "\t [[{{node gradients/split_grad/concat/split/split_dim}}]]\n",
      "2024-08-04 18:15:15.283058: I tensorflow/core/common_runtime/executor.cc:1197] [/device:CPU:0] (DEBUG INFO) Executor start aborting (this does not indicate an error and you can ignore this message): INVALID_ARGUMENT: You must feed a value for placeholder tensor 'gradients/split_1_grad/concat/split_1/split_dim' with dtype int32\n",
      "\t [[{{node gradients/split_1_grad/concat/split_1/split_dim}}]]\n"
     ]
    },
    {
     "name": "stdout",
     "output_type": "stream",
     "text": [
      "36846/36847 [============================>.] - ETA: 0s - loss: 0.2636 - accuracy: 0.8907"
     ]
    },
    {
     "name": "stderr",
     "output_type": "stream",
     "text": [
      "2024-08-04 18:30:29.630579: I tensorflow/core/common_runtime/executor.cc:1197] [/device:CPU:0] (DEBUG INFO) Executor start aborting (this does not indicate an error and you can ignore this message): INVALID_ARGUMENT: You must feed a value for placeholder tensor 'gradients/split_2_grad/concat/split_2/split_dim' with dtype int32\n",
      "\t [[{{node gradients/split_2_grad/concat/split_2/split_dim}}]]\n",
      "2024-08-04 18:30:29.631251: I tensorflow/core/common_runtime/executor.cc:1197] [/device:CPU:0] (DEBUG INFO) Executor start aborting (this does not indicate an error and you can ignore this message): INVALID_ARGUMENT: You must feed a value for placeholder tensor 'gradients/split_grad/concat/split/split_dim' with dtype int32\n",
      "\t [[{{node gradients/split_grad/concat/split/split_dim}}]]\n",
      "2024-08-04 18:30:29.631798: I tensorflow/core/common_runtime/executor.cc:1197] [/device:CPU:0] (DEBUG INFO) Executor start aborting (this does not indicate an error and you can ignore this message): INVALID_ARGUMENT: You must feed a value for placeholder tensor 'gradients/split_1_grad/concat/split_1/split_dim' with dtype int32\n",
      "\t [[{{node gradients/split_1_grad/concat/split_1/split_dim}}]]\n",
      "2024-08-04 18:30:29.712951: I tensorflow/core/common_runtime/executor.cc:1197] [/device:CPU:0] (DEBUG INFO) Executor start aborting (this does not indicate an error and you can ignore this message): INVALID_ARGUMENT: You must feed a value for placeholder tensor 'gradients/split_2_grad/concat/split_2/split_dim' with dtype int32\n",
      "\t [[{{node gradients/split_2_grad/concat/split_2/split_dim}}]]\n",
      "2024-08-04 18:30:29.713449: I tensorflow/core/common_runtime/executor.cc:1197] [/device:CPU:0] (DEBUG INFO) Executor start aborting (this does not indicate an error and you can ignore this message): INVALID_ARGUMENT: You must feed a value for placeholder tensor 'gradients/split_grad/concat/split/split_dim' with dtype int32\n",
      "\t [[{{node gradients/split_grad/concat/split/split_dim}}]]\n",
      "2024-08-04 18:30:29.713884: I tensorflow/core/common_runtime/executor.cc:1197] [/device:CPU:0] (DEBUG INFO) Executor start aborting (this does not indicate an error and you can ignore this message): INVALID_ARGUMENT: You must feed a value for placeholder tensor 'gradients/split_1_grad/concat/split_1/split_dim' with dtype int32\n",
      "\t [[{{node gradients/split_1_grad/concat/split_1/split_dim}}]]\n"
     ]
    },
    {
     "name": "stdout",
     "output_type": "stream",
     "text": [
      "36847/36847 [==============================] - 959s 26ms/step - loss: 0.2636 - accuracy: 0.8907 - val_loss: 0.0972 - val_accuracy: 0.9635\n",
      "LSTM Model Training Complete\n"
     ]
    }
   ],
   "source": [
    "# Reshape data for LSTM model\n",
    "X_train_lstm = X_train.values.reshape((X_train.shape[0], X_train.shape[1], 1)).astype(np.float32)\n",
    "X_val_lstm = X_val.values.reshape((X_val.shape[0], X_val.shape[1], 1)).astype(np.float32)\n",
    "\n",
    "# Check the shape of the reshaped data\n",
    "print(f\"Training data shape for LSTM: {X_train_lstm.shape}\")\n",
    "print(f\"Validation data shape for LSTM: {X_val_lstm.shape}\")\n",
    "\n",
    "# Train LSTM model\n",
    "history_lstm = lstm_model.fit(X_train_lstm, y_train, validation_data=(X_val_lstm, y_val), epochs=1, batch_size=32)\n",
    "print(\"LSTM Model Training Complete\")"
   ],
   "metadata": {
    "collapsed": false,
    "ExecuteTime": {
     "end_time": "2024-08-04T22:31:13.317581Z",
     "start_time": "2024-08-04T22:15:13.951536Z"
    }
   },
   "id": "21a1aa57c44fee67"
  },
  {
   "cell_type": "markdown",
   "source": [
    "# Model Evaluation (LSTM)"
   ],
   "metadata": {
    "collapsed": false
   },
   "id": "6add2f1e3eec5292"
  },
  {
   "cell_type": "code",
   "execution_count": 15,
   "outputs": [
    {
     "name": "stdout",
     "output_type": "stream",
     "text": [
      "Test data shape for LSTM: (252662, 16, 1)\n",
      "7896/7896 [==============================] - 78s 10ms/step\n",
      "LSTM Model Evaluation:\n",
      "              precision    recall  f1-score   support\n",
      "\n",
      "           0       0.99      0.94      0.96     50736\n",
      "           1       0.98      0.98      0.98    101032\n",
      "           2       0.92      0.95      0.93     48029\n",
      "           3       0.96      0.97      0.97     52865\n",
      "\n",
      "    accuracy                           0.96    252662\n",
      "   macro avg       0.96      0.96      0.96    252662\n",
      "weighted avg       0.96      0.96      0.96    252662\n",
      "\n",
      "Confusion Matrix:\n",
      "[[47766   293  2081   596]\n",
      " [  310 98722  1401   599]\n",
      " [  218  1297 45644   870]\n",
      " [   71   650   738 51406]]\n",
      "LSTM Model Accuracy: 0.9639\n",
      "LSTM Model Precision: 0.9645\n",
      "LSTM Model Recall: 0.9639\n"
     ]
    },
    {
     "data": {
      "text/plain": "<Figure size 1200x400 with 2 Axes>",
      "image/png": "[encoded data removed]"
     },
     "metadata": {},
     "output_type": "display_data"
    }
   ],
   "source": [
    "import matplotlib.pyplot as plt\n",
    "from sklearn.metrics import classification_report, confusion_matrix, accuracy_score, precision_score, recall_score\n",
    "\n",
    "# Reshape and convert test data for LSTM model\n",
    "X_test_lstm = X_test.values.reshape((X_test.shape[0], X_test.shape[1], 1)).astype(np.float32)\n",
    "\n",
    "# Check the shape of the test data\n",
    "print(f\"Test data shape for LSTM: {X_test_lstm.shape}\")\n",
    "\n",
    "# Predict the classes for the test set\n",
    "y_pred_lstm = lstm_model.predict(X_test_lstm).argmax(axis=1)\n",
    "\n",
    "# Classification report and confusion matrix\n",
    "print(\"LSTM Model Evaluation:\")\n",
    "print(classification_report(y_test, y_pred_lstm))\n",
    "\n",
    "conf_matrix_lstm = confusion_matrix(y_test, y_pred_lstm)\n",
    "print(\"Confusion Matrix:\")\n",
    "print(conf_matrix_lstm)\n",
    "\n",
    "# Calculate and print accuracy, precision, and recall\n",
    "accuracy_lstm = accuracy_score(y_test, y_pred_lstm)\n",
    "precision_lstm = precision_score(y_test, y_pred_lstm, average='weighted')\n",
    "recall_lstm = recall_score(y_test, y_pred_lstm, average='weighted')\n",
    "\n",
    "print(f\"LSTM Model Accuracy: {accuracy_lstm:.4f}\")\n",
    "print(f\"LSTM Model Precision: {precision_lstm:.4f}\")\n",
    "print(f\"LSTM Model Recall: {recall_lstm:.4f}\")\n",
    "\n",
    "# Plot training & validation accuracy values\n",
    "plt.figure(figsize=(12, 4))\n",
    "plt.subplot(1, 2, 1)\n",
    "plt.plot(history_lstm.history['accuracy'])\n",
    "plt.plot(history_lstm.history['val_accuracy'])\n",
    "plt.title('LSTM Model Accuracy')\n",
    "plt.ylabel('Accuracy')\n",
    "plt.xlabel('Epoch')\n",
    "plt.legend(['Train', 'Validation'], loc='upper left')\n",
    "\n",
    "# Plot training & validation loss values\n",
    "plt.subplot(1, 2, 2)\n",
    "plt.plot(history_lstm.history['loss'])\n",
    "plt.plot(history_lstm.history['val_loss'])\n",
    "plt.title('LSTM Model Loss')\n",
    "plt.ylabel('Loss')\n",
    "plt.xlabel('Epoch')\n",
    "plt.legend(['Train', 'Validation'], loc='upper left')\n",
    "\n",
    "plt.show()"
   ],
   "metadata": {
    "collapsed": false,
    "ExecuteTime": {
     "end_time": "2024-08-04T22:34:55.856223Z",
     "start_time": "2024-08-04T22:33:36.493734Z"
    }
   },
   "id": "eda9b8b0f8c6bc25"
  },
  {
   "cell_type": "code",
   "execution_count": 17,
   "outputs": [
    {
     "data": {
      "text/plain": "<Figure size 1200x400 with 2 Axes>",
      "image/png": "[encoded data removed]"
     },
     "metadata": {},
     "output_type": "display_data"
    }
   ],
   "source": [
    "import matplotlib.pyplot as plt\n",
    "\n",
    "# Assuming you have the history object from model training\n",
    "def plot_training_history(history):\n",
    "    # Plot training & validation accuracy values\n",
    "    plt.figure(figsize=(12, 4))\n",
    "    plt.subplot(1, 2, 1)\n",
    "    plt.plot(history.history['accuracy'])\n",
    "    plt.plot(history.history['val_accuracy'])\n",
    "    plt.title('Model Accuracy')\n",
    "    plt.ylabel('Accuracy')\n",
    "    plt.xlabel('Epoch')\n",
    "    plt.legend(['Train', 'Validation'], loc='upper left')\n",
    "\n",
    "    # Plot training & validation loss values\n",
    "    plt.subplot(1, 2, 2)\n",
    "    plt.plot(history.history['loss'])\n",
    "    plt.plot(history.history['val_loss'])\n",
    "    plt.title('Model Loss')\n",
    "    plt.ylabel('Loss')\n",
    "    plt.xlabel('Epoch')\n",
    "    plt.legend(['Train', 'Validation'], loc='upper left')\n",
    "\n",
    "    plt.show()\n",
    "\n",
    "# Example usage with CNN model history\n",
    "plot_training_history(history_cnn)"
   ],
   "metadata": {
    "collapsed": false,
    "ExecuteTime": {
     "end_time": "2024-08-05T04:35:31.768557Z",
     "start_time": "2024-08-05T04:35:31.654819Z"
    }
   },
   "id": "dd1f76c8626bec95"
  },
  {
   "cell_type": "code",
   "execution_count": null,
   "outputs": [],
   "source": [],
   "metadata": {
    "collapsed": false
   },
   "id": "f67108220fc1753b"
  }
 ],
 "metadata": {
  "kernelspec": {
   "display_name": "Python 3",
   "language": "python",
   "name": "python3"
  },
  "language_info": {
   "codemirror_mode": {
    "name": "ipython",
    "version": 2
   },
   "file_extension": ".py",
   "mimetype": "text/x-python",
   "name": "python",
   "nbconvert_exporter": "python",
   "pygments_lexer": "ipython2",
   "version": "2.7.6"
  }
 },
 "nbformat": 4,
 "nbformat_minor": 5
}
